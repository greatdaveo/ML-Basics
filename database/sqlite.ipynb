{
 "cells": [
  {
   "cell_type": "markdown",
   "metadata": {},
   "source": [
    "# SQL AND SQLite\n",
    "### SQL ( Structured Query Language) is a standard language for managing and manipulating relational databases. \n",
    "### SQLite is a self-contained, serverless, and zero-configuration database engine that is widely used for embedded database systems. "
   ]
  },
  {
   "cell_type": "code",
   "execution_count": 158,
   "metadata": {},
   "outputs": [],
   "source": [
    "import sqlite3"
   ]
  },
  {
   "cell_type": "code",
   "execution_count": 159,
   "metadata": {},
   "outputs": [
    {
     "data": {
      "text/plain": [
       "<sqlite3.Connection at 0x107d54e40>"
      ]
     },
     "execution_count": 159,
     "metadata": {},
     "output_type": "execute_result"
    }
   ],
   "source": [
    "# To connect to a SQLite Database\n",
    "connection =sqlite3.connect(\"example.db\", timeout=30)\n",
    "connection"
   ]
  },
  {
   "cell_type": "code",
   "execution_count": 160,
   "metadata": {},
   "outputs": [],
   "source": [
    "# To be able to iterate all the tables rows and column\n",
    "cursor = connection.cursor()"
   ]
  },
  {
   "cell_type": "code",
   "execution_count": 161,
   "metadata": {},
   "outputs": [],
   "source": [
    "# To create a table\n",
    "cursor.execute('''\n",
    "    CREATE TABLE IF NOT EXISTS employees (\n",
    "        id INTEGER PRIMARY KEY,\n",
    "        name TEXT NOT NULL,\n",
    "        age INTEGER,\n",
    "        department TEXT\n",
    "    )\n",
    "''')\n",
    "\n",
    "# To commit the changes \n",
    "connection.commit()"
   ]
  },
  {
   "cell_type": "code",
   "execution_count": 162,
   "metadata": {},
   "outputs": [],
   "source": [
    "cursor.execute('''\n",
    "    SELECT * FROM employees               \n",
    "''')\n",
    "\n",
    "connection.commit()"
   ]
  },
  {
   "cell_type": "code",
   "execution_count": 163,
   "metadata": {},
   "outputs": [],
   "source": [
    "# To insert the data in sqlite table\n",
    "cursor.execute('''\n",
    "    INSERT INTO employees(name, age, department)           \n",
    "                    VALUES(\"Dave\", 20, \"Software Developer\")\n",
    "''')\n",
    "\n",
    "cursor.execute('''\n",
    "    INSERT INTO employees(name, age, department)           \n",
    "                    VALUES(\"Joseph\", 33, \"Engineering\")\n",
    "''')\n",
    "\n",
    "cursor.execute('''\n",
    "    INSERT INTO employees(name, age, department)           \n",
    "                    VALUES(\"Alex\", 42, \"Finance\")\n",
    "''')\n",
    "\n",
    "# To commit the changes\n",
    "connection.commit()"
   ]
  },
  {
   "cell_type": "code",
   "execution_count": 164,
   "metadata": {},
   "outputs": [
    {
     "name": "stdout",
     "output_type": "stream",
     "text": [
      "(1, 'Dave', 20, 'Software Developer')\n",
      "(2, 'Joseph', 33, 'Engineering')\n",
      "(3, 'Alex', 42, 'Finance')\n"
     ]
    }
   ],
   "source": [
    "# To Query the data from the table\n",
    "cursor.execute('''SELECT * FROM employees''')\n",
    "rows = cursor.fetchall()\n",
    "\n",
    "# To print the queried data\n",
    "for row in rows:\n",
    "    print(row)"
   ]
  },
  {
   "cell_type": "code",
   "execution_count": 165,
   "metadata": {},
   "outputs": [],
   "source": [
    "# To update the data in th etable\n",
    "cursor.execute('''\n",
    "               UPDATE employees \n",
    "               SET age=34 WHERE name=\"Dave\"\n",
    "''')\n",
    "\n",
    "connection.commit()"
   ]
  },
  {
   "cell_type": "code",
   "execution_count": 166,
   "metadata": {},
   "outputs": [
    {
     "name": "stdout",
     "output_type": "stream",
     "text": [
      "(1, 'Dave', 34, 'Software Developer')\n",
      "(2, 'Joseph', 33, 'Engineering')\n",
      "(3, 'Alex', 42, 'Finance')\n"
     ]
    }
   ],
   "source": [
    "# To Query the data from the table\n",
    "cursor.execute(\"\"\"SELECT * FROM employees\"\"\")\n",
    "rows = cursor.fetchall()\n",
    "\n",
    "# To print the queried data\n",
    "for row in rows:\n",
    "    print(row)"
   ]
  },
  {
   "cell_type": "code",
   "execution_count": 167,
   "metadata": {},
   "outputs": [
    {
     "data": {
      "text/plain": [
       "<sqlite3.Cursor at 0x107cc71c0>"
      ]
     },
     "execution_count": 167,
     "metadata": {},
     "output_type": "execute_result"
    }
   ],
   "source": [
    "# To delete the data from the table\n",
    "cursor.execute('''\n",
    "    DELETE FROM employees WHERE name = \"Alex\"\n",
    "''')\n"
   ]
  },
  {
   "cell_type": "code",
   "execution_count": 168,
   "metadata": {},
   "outputs": [],
   "source": [
    "# To work with the Sales Data\n",
    "connection = sqlite3.connect(\"sales_data.db\")\n",
    "cursor = connection.cursor()\n",
    "\n",
    "# To create a table for Sales Data\n",
    "cursor.execute('''\n",
    "    CREATE TABLE IF NOT EXISTS sales (\n",
    "        id INTEGER PRIMARY KEY,\n",
    "        date TEXT NOT NULL,\n",
    "        product TEXT NOT NULL,\n",
    "        sales INTEGER,\n",
    "        region TEXT\n",
    "    )               \n",
    "''')\n",
    "\n",
    "# To insert into the sales table\n",
    "sales_data = [\n",
    "    ('2025-01-01', 'Product1', 100, 'North'),\n",
    "    ('2025-01-02', 'Product2', 200, 'South'),\n",
    "    ('2025-01-03', 'Product1', 150, 'East'),\n",
    "    ('2025-01-04', 'Product3', 250, 'West'),\n",
    "    ('2025-01-05', 'Product2', 300, 'North')\n",
    "]\n",
    "\n",
    "cursor.executemany('''\n",
    "    INSERT INTO sales(date, product, sales, region)\n",
    "    VALUES(?,?,?,?)\n",
    "''',sales_data)\n",
    "\n",
    "connection.commit()"
   ]
  },
  {
   "cell_type": "code",
   "execution_count": 169,
   "metadata": {},
   "outputs": [
    {
     "name": "stdout",
     "output_type": "stream",
     "text": [
      "(1, '2025-01-01', 'Product1', 100, 'North')\n",
      "(2, '2025-01-02', 'Product2', 200, 'South')\n",
      "(3, '2025-01-03', 'Product1', 150, 'East')\n",
      "(4, '2025-01-04', 'Product3', 250, 'West')\n",
      "(5, '2025-01-05', 'Product2', 300, 'North')\n"
     ]
    }
   ],
   "source": [
    "# To query data from the sales table\n",
    "cursor.execute('''SELECT * FROM sales''')\n",
    "rows = cursor.fetchall()\n",
    "\n",
    "for row in rows:\n",
    "    print(row)"
   ]
  },
  {
   "cell_type": "code",
   "execution_count": 170,
   "metadata": {},
   "outputs": [],
   "source": [
    "# To permanently close the connection\n",
    "connection.close()"
   ]
  },
  {
   "cell_type": "code",
   "execution_count": null,
   "metadata": {},
   "outputs": [],
   "source": []
  }
 ],
 "metadata": {
  "kernelspec": {
   "display_name": "Python 3",
   "language": "python",
   "name": "python3"
  },
  "language_info": {
   "codemirror_mode": {
    "name": "ipython",
    "version": 3
   },
   "file_extension": ".py",
   "mimetype": "text/x-python",
   "name": "python",
   "nbconvert_exporter": "python",
   "pygments_lexer": "ipython3",
   "version": "3.10.17"
  }
 },
 "nbformat": 4,
 "nbformat_minor": 2
}
